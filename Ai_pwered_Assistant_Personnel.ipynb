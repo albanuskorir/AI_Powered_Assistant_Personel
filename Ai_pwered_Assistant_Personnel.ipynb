{
 "cells": [
  {
   "cell_type": "code",
   "execution_count": null,
   "id": "d38827a6",
   "metadata": {},
   "outputs": [],
   "source": [
    "import speech_recognition as sr\n",
    "import pyttsx3\n",
    "import wikipedia\n",
    "import webbrowser\n",
    "import datetime\n",
    "import os\n",
    "engine = pyttsx3.init()\n",
    "def speak(text):\n",
    "    engine.say(text)\n",
    "    engine.runAndWait()\n",
    "def listen():\n",
    "    r = sr.Recognizer()\n",
    "    with sr.Microphone() as source:\n",
    "        print(\"Listening...\")\n",
    "        r.pause_threshold = 1\n",
    "        audio = r.listen(source)\n",
    "\n",
    "    try:\n",
    "        print(\"Recognizing...\")\n",
    "        query = r.recognize_google(audio, language='en')\n",
    "        print(f\"User: {query}\\n\")\n",
    "    except Exception as e:\n",
    "        print(\"Sorry, I didn't catch that. Can you please repeat?\")\n",
    "        return None\n",
    "\n",
    "    return query\n",
    "def run_personal_assistant():\n",
    "    while True:\n",
    "        query = listen()\n",
    "\n",
    "        if query:\n",
    "            # Convert query to lowercase for easier processing\n",
    "            query = query.lower()\n",
    "\n",
    "            # Check for specific commands or keywords\n",
    "            if 'wikipedia' in query:\n",
    "                # Extract the search term from the query\n",
    "                search_term = query.replace('wikipedia', '')\n",
    "                search_results = wikipedia.summary(search_term, sentences=2)\n",
    "                print(search_results)\n",
    "                speak(search_results)\n",
    "            elif 'open youtube' in query:\n",
    "                webbrowser.open(\"https://www.youtube.com\")\n",
    "            elif 'open google' in query:\n",
    "                webbrowser.open(\"https://www.google.com\")\n",
    "            elif 'time' in query:\n",
    "                current_time = datetime.datetime.now().strftime(\"%H:%M:%S\")\n",
    "                print(\"Current time is: \", current_time)\n",
    "                speak(\"The current time is \" + current_time)\n",
    "            elif 'quit' in query:\n",
    "                break\n",
    "            else:\n",
    "                speak(\"Sorry, I didn't understand that command.\")\n",
    "\n",
    "run_personal_assistant()"
   ]
  }
 ],
 "metadata": {
  "kernelspec": {
   "display_name": "Python 3 (ipykernel)",
   "language": "python",
   "name": "python3"
  },
  "language_info": {
   "codemirror_mode": {
    "name": "ipython",
    "version": 3
   },
   "file_extension": ".py",
   "mimetype": "text/x-python",
   "name": "python",
   "nbconvert_exporter": "python",
   "pygments_lexer": "ipython3",
   "version": "3.9.13"
  }
 },
 "nbformat": 4,
 "nbformat_minor": 5
}
